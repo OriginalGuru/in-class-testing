{
  "cells": [
    {
      "cell_type": "markdown",
      "metadata": {
        "id": "view-in-github",
        "colab_type": "text"
      },
      "source": [
        "<a href=\"https://colab.research.google.com/github/OriginalGuru/in-class-testing/blob/main/scratchpad.ipynb\" target=\"_parent\"><img src=\"https://colab.research.google.com/assets/colab-badge.svg\" alt=\"Open In Colab\"/></a>"
      ]
    },
    {
      "cell_type": "markdown",
      "source": [
        "# Playing with built in mathematical operations\n",
        "\n",
        "_This is a list:_\n",
        "- item 1\n",
        "- item 2\n",
        "\n",
        "**Cardinal list:**\n",
        "1. item 1\n",
        "2. item 2\n",
        "\n",
        "Latex can also be rendered:\n",
        "$ \\alpha = 2 + 3$"
      ],
      "metadata": {
        "id": "hjkEK86qCmmm"
      }
    },
    {
      "cell_type": "code",
      "execution_count": 27,
      "metadata": {
        "colab": {
          "base_uri": "https://localhost:8080/"
        },
        "id": "lIYdn1woOS1n",
        "outputId": "5dd52e3a-fa0d-4b79-bdbe-f08582a6e618"
      },
      "outputs": [
        {
          "output_type": "execute_result",
          "data": {
            "text/plain": [
              "3"
            ]
          },
          "metadata": {},
          "execution_count": 27
        }
      ],
      "source": [
        "# add two numbers\n",
        "2 + 3 # I am adding 2 and 3\n",
        "\n",
        "# define a variable\n",
        "x = 2 + 3\n",
        "# print(x)\n",
        "\n",
        "# define another variable\n",
        "y = 2.3 * 102.7\n",
        "# print(y)\n",
        "\n",
        "# multiply variables\n",
        "x * y\n",
        "\n",
        "# exponentiation\n",
        "x ** y\n",
        "\n",
        "# modular arithmetic\n",
        "10 % 3 # gives the remainder of 10 / 3 --> 1\n",
        "\n",
        "# floor\n",
        "10 // 3"
      ]
    },
    {
      "cell_type": "code",
      "source": [],
      "metadata": {
        "id": "eIgH9IfQAtqS"
      },
      "execution_count": null,
      "outputs": []
    }
  ],
  "metadata": {
    "colab": {
      "name": "scratchpad",
      "provenance": [],
      "include_colab_link": true
    },
    "kernelspec": {
      "display_name": "Python 3",
      "name": "python3"
    }
  },
  "nbformat": 4,
  "nbformat_minor": 0
}